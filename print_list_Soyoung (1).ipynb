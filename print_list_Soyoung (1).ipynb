{
  "nbformat": 4,
  "nbformat_minor": 0,
  "metadata": {
    "colab": {
      "name": "Untitled0.ipynb",
      "provenance": []
    },
    "kernelspec": {
      "name": "python3",
      "display_name": "Python 3"
    }
  },
  "cells": [
    {
      "cell_type": "code",
      "metadata": {
        "id": "Y7B8WZ4KeNwW",
        "colab_type": "code",
        "colab": {
          "base_uri": "https://localhost:8080/",
          "height": 71
        },
        "outputId": "93d21150-db79-4692-e24a-883f3082d6cc"
      },
      "source": [
        "movies=[\"The Holy Grail\",\"The Life of Brian\",\"The Meaning of Life\"]\n",
        "for i,j in enumerate(movies):\n",
        "  print(movies[i])"
      ],
      "execution_count": 1,
      "outputs": [
        {
          "output_type": "stream",
          "text": [
            "The Holy Grail\n",
            "The Life of Brian\n",
            "The Meaning of Life\n"
          ],
          "name": "stdout"
        }
      ]
    },
    {
      "cell_type": "code",
      "metadata": {
        "id": "lPUhi0J-eRXN",
        "colab_type": "code",
        "colab": {}
      },
      "source": [
        "def print_movies(movies):\n",
        "  for i,j in enumerate(movies):\n",
        "    print(movies[i])  #:을 찍은 뒤에는 무조건 지금보다 1 level 들여쓰기된 코드가 나타나야 합니다.\n",
        "  return"
      ],
      "execution_count": 0,
      "outputs": []
    },
    {
      "cell_type": "code",
      "metadata": {
        "id": "ssQxSMmEeVYE",
        "colab_type": "code",
        "colab": {
          "base_uri": "https://localhost:8080/",
          "height": 71
        },
        "outputId": "b67a6418-6378-49e4-ede5-972569ca00b6"
      },
      "source": [
        "print_movies(movies)"
      ],
      "execution_count": 4,
      "outputs": [
        {
          "output_type": "stream",
          "text": [
            "The Holy Grail\n",
            "The Life of Brian\n",
            "The Meaning of Life\n"
          ],
          "name": "stdout"
        }
      ]
    },
    {
      "cell_type": "code",
      "metadata": {
        "id": "nevRg_tReWK4",
        "colab_type": "code",
        "colab": {}
      },
      "source": [
        ""
      ],
      "execution_count": 0,
      "outputs": []
    }
  ]
}