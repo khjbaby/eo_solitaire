{
  "nbformat": 4,
  "nbformat_minor": 0,
  "metadata": {
    "colab": {
      "name": "scatterplot_Soyoung.ipynb",
      "provenance": []
    },
    "kernelspec": {
      "name": "python3",
      "display_name": "Python 3"
    }
  },
  "cells": [
    {
      "cell_type": "code",
      "metadata": {
        "id": "DyGusHL3xK8q",
        "colab_type": "code",
        "colab": {}
      },
      "source": [
        "from sklearn import datasets\n",
        "iris=datasets.load_iris()"
      ],
      "execution_count": 0,
      "outputs": []
    },
    {
      "cell_type": "code",
      "metadata": {
        "id": "N6S3GXd0xMcg",
        "colab_type": "code",
        "colab": {}
      },
      "source": [
        "from sklearn import datasets\n",
        "iris=datasets.load_iris()"
      ],
      "execution_count": 0,
      "outputs": []
    },
    {
      "cell_type": "code",
      "metadata": {
        "id": "q536EgltxNbI",
        "colab_type": "code",
        "colab": {}
      },
      "source": [
        "iris.keys()"
      ],
      "execution_count": 0,
      "outputs": []
    },
    {
      "cell_type": "code",
      "metadata": {
        "id": "4jBM0_40xPBh",
        "colab_type": "code",
        "colab": {}
      },
      "source": [
        "print(iris.target)"
      ],
      "execution_count": 0,
      "outputs": []
    },
    {
      "cell_type": "code",
      "metadata": {
        "id": "9HpSI_MfxQ9Y",
        "colab_type": "code",
        "colab": {}
      },
      "source": [
        "print(iris.data)"
      ],
      "execution_count": 0,
      "outputs": []
    },
    {
      "cell_type": "code",
      "metadata": {
        "id": "q5cZdv0KxRgI",
        "colab_type": "code",
        "colab": {}
      },
      "source": [
        "sepals_length=iris.data[:,0]\n",
        "sepals_width=iris.data[:,1]"
      ],
      "execution_count": 0,
      "outputs": []
    },
    {
      "cell_type": "code",
      "metadata": {
        "id": "7GhhXWB_xTcY",
        "colab_type": "code",
        "colab": {}
      },
      "source": [
        "target_0_mask=(iris.target==0) #마스킹\n",
        "target_0_mask\n",
        "target_1_mask=(iris.target==1)\n",
        "target_2_mask=(iris.target==2)"
      ],
      "execution_count": 0,
      "outputs": []
    },
    {
      "cell_type": "code",
      "metadata": {
        "id": "_TwHpMZQxYWB",
        "colab_type": "code",
        "colab": {}
      },
      "source": [
        "sepals_length_0=sepals_length[target_0_mask]\n",
        "sepals_width_0=sepals_width[target_0_mask]\n",
        "sepals_length_1=sepals_length[target_1_mask]\n",
        "sepals_width_1=sepals_width[target_1_mask]\n",
        "sepals_length_2=sepals_length[target_2_mask]\n",
        "sepals_width_2=sepals_width[target_2_mask]"
      ],
      "execution_count": 0,
      "outputs": []
    },
    {
      "cell_type": "code",
      "metadata": {
        "id": "g8eOYoiSxZhQ",
        "colab_type": "code",
        "colab": {}
      },
      "source": [
        "plt.scatter(sepals_length_0, sepals_width_0, marker='v', color='r')\n",
        "plt.scatter(sepals_length_1, sepals_width_1, marker='o', color='b')\n",
        "plt.scatter(sepals_length_2, sepals_width_2, marker='.', color='g')\n",
        "plt.xlabel(\"sepals_length\")\n",
        "plt.ylabel(\"sepals_width\")\n",
        "plt.legend(['target=0','target=1','target=2' ])\n",
        "plt.title(\"Hello Iris \\n\") \n",
        "plt.show()"
      ],
      "execution_count": 0,
      "outputs": []
    }
  ]
}