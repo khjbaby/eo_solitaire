{
  "nbformat": 4,
  "nbformat_minor": 0,
  "metadata": {
    "colab": {
      "name": "students_score_Soyoung.ipynb",
      "provenance": []
    },
    "kernelspec": {
      "name": "python3",
      "display_name": "Python 3"
    }
  },
  "cells": [
    {
      "cell_type": "code",
      "metadata": {
        "id": "Q2ux6nqwKMQa",
        "colab_type": "code",
        "colab": {}
      },
      "source": [
        "students_score=[\n",
        "               {'num':'1','name':'김철수','kor':90,'eng':80,'math':85},\n",
        "               {'num':'2','name':'박제동','kor':90,'eng':85,'math':90},\n",
        "               {'num':'3','name':'홍길동','kor':80,'eng':80,'math':80}\n",
        "]\n",
        "students_score.append({'num':'4','name':'김철','kor':95,'eng':80,'math':82})\n",
        "students_score.append({'num':'5','name':'김종','kor':20,'eng':80,'math':85})"
      ],
      "execution_count": 0,
      "outputs": []
    },
    {
      "cell_type": "code",
      "metadata": {
        "id": "Ga_xiX00KORO",
        "colab_type": "code",
        "colab": {}
      },
      "source": [
        "def score_total(x, i):\n",
        "  total=x[i]['kor']+x[i]['eng']+x[i]['math']\n",
        "  return total\n",
        "\n",
        "def score_avg(x, i):\n",
        "  avg=score_total(x,i)/3\n",
        "  return avg"
      ],
      "execution_count": 0,
      "outputs": []
    },
    {
      "cell_type": "code",
      "metadata": {
        "id": "pjvomus6KO8e",
        "colab_type": "code",
        "colab": {}
      },
      "source": [
        "for i in range(len(students_score)):\n",
        "  total_1=score_total(students_score,i)\n",
        "  avg_1=score_avg(students_score, i)\n",
        "  students_score[i]['총합']= total_1 #i번째 개체에 키:값 입력시킴\n",
        "  students_score[i]['평균']= avg_1"
      ],
      "execution_count": 0,
      "outputs": []
    },
    {
      "cell_type": "code",
      "metadata": {
        "id": "umDeP16gKR_-",
        "colab_type": "code",
        "colab": {
          "base_uri": "https://localhost:8080/",
          "height": 647
        },
        "outputId": "c46248be-6de0-49ee-daab-4031ea791ecd"
      },
      "source": [
        "students_score"
      ],
      "execution_count": 4,
      "outputs": [
        {
          "output_type": "execute_result",
          "data": {
            "text/plain": [
              "[{'eng': 80,\n",
              "  'kor': 90,\n",
              "  'math': 85,\n",
              "  'name': '김철수',\n",
              "  'num': '1',\n",
              "  '총합': 255,\n",
              "  '평균': 85.0},\n",
              " {'eng': 85,\n",
              "  'kor': 90,\n",
              "  'math': 90,\n",
              "  'name': '박제동',\n",
              "  'num': '2',\n",
              "  '총합': 265,\n",
              "  '평균': 88.33333333333333},\n",
              " {'eng': 80,\n",
              "  'kor': 80,\n",
              "  'math': 80,\n",
              "  'name': '홍길동',\n",
              "  'num': '3',\n",
              "  '총합': 240,\n",
              "  '평균': 80.0},\n",
              " {'eng': 80,\n",
              "  'kor': 95,\n",
              "  'math': 82,\n",
              "  'name': '김철',\n",
              "  'num': '4',\n",
              "  '총합': 257,\n",
              "  '평균': 85.66666666666667},\n",
              " {'eng': 80,\n",
              "  'kor': 20,\n",
              "  'math': 85,\n",
              "  'name': '김종',\n",
              "  'num': '5',\n",
              "  '총합': 185,\n",
              "  '평균': 61.666666666666664}]"
            ]
          },
          "metadata": {
            "tags": []
          },
          "execution_count": 4
        }
      ]
    },
    {
      "cell_type": "code",
      "metadata": {
        "id": "6D0GT0DiKUUu",
        "colab_type": "code",
        "colab": {}
      },
      "source": [
        "def class_avg_func(students_score):\n",
        "  class_avg=0 ### 정의 위치\n",
        "  for i in range(len(students_score)):\n",
        "    class_avg=class_avg+students_score[i]['평균']  #sum=0 and then...연쇄\n",
        "    i=i+1\n",
        "  classes_avg=class_avg/len(students_score)\n",
        "  print(classes_avg)"
      ],
      "execution_count": 0,
      "outputs": []
    },
    {
      "cell_type": "code",
      "metadata": {
        "id": "1BtvMzq1KWJW",
        "colab_type": "code",
        "colab": {
          "base_uri": "https://localhost:8080/",
          "height": 35
        },
        "outputId": "b32188b6-686e-4c68-a93b-8f7c30b7141d"
      },
      "source": [
        "class_avg_func(students_score)"
      ],
      "execution_count": 6,
      "outputs": [
        {
          "output_type": "stream",
          "text": [
            "80.13333333333334\n"
          ],
          "name": "stdout"
        }
      ]
    },
    {
      "cell_type": "code",
      "metadata": {
        "id": "rlShMNm_KYNY",
        "colab_type": "code",
        "colab": {
          "base_uri": "https://localhost:8080/",
          "height": 35
        },
        "outputId": "266ab324-7d21-4056-a6b6-d5789ef983b2"
      },
      "source": [
        "def subject_avg_func(students_score):\n",
        "  sub_avg_kor=0 ### 위치\n",
        "  for i in range(len(students_score)):\n",
        "    sub_avg_kor=sub_avg_kor+students_score[i]['kor']  #sum=0 and then...연쇄\n",
        "    i=i+1\n",
        "  kor_avg=sub_avg_kor/len(students_score)\n",
        "  print(kor_avg)\n",
        "subject_avg_func(students_score)"
      ],
      "execution_count": 8,
      "outputs": [
        {
          "output_type": "stream",
          "text": [
            "75.0\n"
          ],
          "name": "stdout"
        }
      ]
    }
  ]
}