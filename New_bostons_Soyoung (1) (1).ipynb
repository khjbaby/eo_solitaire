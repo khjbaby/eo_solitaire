{
  "nbformat": 4,
  "nbformat_minor": 0,
  "metadata": {
    "colab": {
      "name": "New_bostons_Soyoung.ipynb",
      "provenance": [],
      "collapsed_sections": []
    },
    "kernelspec": {
      "name": "python3",
      "display_name": "Python 3"
    }
  },
  "cells": [
    {
      "cell_type": "code",
      "metadata": {
        "id": "3PECkCBt5OsM",
        "colab_type": "code",
        "colab": {}
      },
      "source": [
        "import numpy as np\n",
        "from sklearn.datasets import load_boston"
      ],
      "execution_count": 0,
      "outputs": []
    },
    {
      "cell_type": "code",
      "metadata": {
        "id": "6SrOL0yz_bJk",
        "colab_type": "code",
        "colab": {}
      },
      "source": [
        "import numpy as np\n",
        "from matplotlib import pyplot as plt"
      ],
      "execution_count": 0,
      "outputs": []
    },
    {
      "cell_type": "code",
      "metadata": {
        "id": "6UVssoFe5f56",
        "colab_type": "code",
        "colab": {}
      },
      "source": [
        "bostons=load_boston()\n",
        "print(bostons.DESCR)"
      ],
      "execution_count": 0,
      "outputs": []
    },
    {
      "cell_type": "code",
      "metadata": {
        "id": "wFUYRLRY5qYe",
        "colab_type": "code",
        "outputId": "3fe21307-d56f-43c5-d587-1829a5e728f0",
        "colab": {
          "base_uri": "https://localhost:8080/",
          "height": 35
        }
      },
      "source": [
        "type(bostons)"
      ],
      "execution_count": 3,
      "outputs": [
        {
          "output_type": "execute_result",
          "data": {
            "text/plain": [
              "sklearn.utils.Bunch"
            ]
          },
          "metadata": {
            "tags": []
          },
          "execution_count": 3
        }
      ]
    },
    {
      "cell_type": "code",
      "metadata": {
        "id": "eeXDvpey6kne",
        "colab_type": "code",
        "outputId": "04bf33f9-46d4-413f-d08c-3aae15c90895",
        "colab": {
          "base_uri": "https://localhost:8080/",
          "height": 35
        }
      },
      "source": [
        "bostons.keys()"
      ],
      "execution_count": 4,
      "outputs": [
        {
          "output_type": "execute_result",
          "data": {
            "text/plain": [
              "dict_keys(['data', 'target', 'feature_names', 'DESCR', 'filename'])"
            ]
          },
          "metadata": {
            "tags": []
          },
          "execution_count": 4
        }
      ]
    },
    {
      "cell_type": "code",
      "metadata": {
        "id": "ZfA8eO5k7Jkz",
        "colab_type": "code",
        "outputId": "e68521fc-6c28-41fa-fc63-73cd8262617d",
        "colab": {
          "base_uri": "https://localhost:8080/",
          "height": 143
        }
      },
      "source": [
        "print(bostons.data) #bostons의 data"
      ],
      "execution_count": 5,
      "outputs": [
        {
          "output_type": "stream",
          "text": [
            "[[6.3200e-03 1.8000e+01 2.3100e+00 ... 1.5300e+01 3.9690e+02 4.9800e+00]\n",
            " [2.7310e-02 0.0000e+00 7.0700e+00 ... 1.7800e+01 3.9690e+02 9.1400e+00]\n",
            " [2.7290e-02 0.0000e+00 7.0700e+00 ... 1.7800e+01 3.9283e+02 4.0300e+00]\n",
            " ...\n",
            " [6.0760e-02 0.0000e+00 1.1930e+01 ... 2.1000e+01 3.9690e+02 5.6400e+00]\n",
            " [1.0959e-01 0.0000e+00 1.1930e+01 ... 2.1000e+01 3.9345e+02 6.4800e+00]\n",
            " [4.7410e-02 0.0000e+00 1.1930e+01 ... 2.1000e+01 3.9690e+02 7.8800e+00]]\n"
          ],
          "name": "stdout"
        }
      ]
    },
    {
      "cell_type": "code",
      "metadata": {
        "id": "UEAc9bE37MXL",
        "colab_type": "code",
        "outputId": "5ef0137a-67da-4a30-f282-31d9e897d793",
        "colab": {
          "base_uri": "https://localhost:8080/",
          "height": 35
        }
      },
      "source": [
        "len(bostons.data)"
      ],
      "execution_count": 6,
      "outputs": [
        {
          "output_type": "execute_result",
          "data": {
            "text/plain": [
              "506"
            ]
          },
          "metadata": {
            "tags": []
          },
          "execution_count": 6
        }
      ]
    },
    {
      "cell_type": "code",
      "metadata": {
        "id": "VWbI-RQ_7bzZ",
        "colab_type": "code",
        "outputId": "161a3229-f51d-4eb7-ae94-419c50a6873e",
        "colab": {
          "base_uri": "https://localhost:8080/",
          "height": 35
        }
      },
      "source": [
        "len(bostons.target), len(bostons.feature_names), len(bostons.target)"
      ],
      "execution_count": 7,
      "outputs": [
        {
          "output_type": "execute_result",
          "data": {
            "text/plain": [
              "(506, 13, 506)"
            ]
          },
          "metadata": {
            "tags": []
          },
          "execution_count": 7
        }
      ]
    },
    {
      "cell_type": "code",
      "metadata": {
        "id": "LO7iv6Ls7hrZ",
        "colab_type": "code",
        "outputId": "48f56063-442a-4c99-ed70-31e31275ae13",
        "colab": {
          "base_uri": "https://localhost:8080/",
          "height": 53
        }
      },
      "source": [
        "bostons.feature_names"
      ],
      "execution_count": 8,
      "outputs": [
        {
          "output_type": "execute_result",
          "data": {
            "text/plain": [
              "array(['CRIM', 'ZN', 'INDUS', 'CHAS', 'NOX', 'RM', 'AGE', 'DIS', 'RAD',\n",
              "       'TAX', 'PTRATIO', 'B', 'LSTAT'], dtype='<U7')"
            ]
          },
          "metadata": {
            "tags": []
          },
          "execution_count": 8
        }
      ]
    },
    {
      "cell_type": "code",
      "metadata": {
        "id": "i46csO9I76Ij",
        "colab_type": "code",
        "outputId": "7242843f-a87a-4a36-9693-e142dd464b42",
        "colab": {
          "base_uri": "https://localhost:8080/",
          "height": 35
        }
      },
      "source": [
        "bostons.data.shape"
      ],
      "execution_count": 9,
      "outputs": [
        {
          "output_type": "execute_result",
          "data": {
            "text/plain": [
              "(506, 13)"
            ]
          },
          "metadata": {
            "tags": []
          },
          "execution_count": 9
        }
      ]
    },
    {
      "cell_type": "code",
      "metadata": {
        "id": "FAH3ta8081Zy",
        "colab_type": "code",
        "colab": {}
      },
      "source": [
        "bostons.target, len(bostons.target)"
      ],
      "execution_count": 0,
      "outputs": []
    },
    {
      "cell_type": "code",
      "metadata": {
        "id": "WAPD0bI977df",
        "colab_type": "code",
        "colab": {}
      },
      "source": [
        "#대표값 구할 항목: CHAS는 범주형자료이므로 빼야할 듯."
      ],
      "execution_count": 0,
      "outputs": []
    },
    {
      "cell_type": "code",
      "metadata": {
        "id": "Ca82-_6D9WqY",
        "colab_type": "code",
        "colab": {}
      },
      "source": [
        "i=0\n",
        "for i in range(len(bostons.feature_names)):\n",
        "  print(bostons.feature_names[i])\n",
        "  print(\"평균:\",np.mean(bostons.data,axis=0)[i])\n",
        "  print(\"중간값:\",np.median(bostons.data,axis=0)[i])\n",
        "  print(\"표준편차:\",np.std(bostons.data, axis=0)[i])\n",
        "  print(\"최대값:\", np.max(bostons.data, axis=0)[i])\n",
        "  print(\"최소값:\", np.min(bostons.data, axis=0)[i])\n",
        "  print('\\n')\n",
        "  i=i+1"
      ],
      "execution_count": 0,
      "outputs": []
    },
    {
      "cell_type": "code",
      "metadata": {
        "id": "BLUJGwBy_zyu",
        "colab_type": "code",
        "colab": {}
      },
      "source": [
        "def representative(dataset):\n",
        "  dataset_t=dataset.T\n",
        "  i=0\n",
        "  for i in range(len(dataset_t)):\n",
        "    mean=np.mean(dataset_t,axis=1)[i]\n",
        "    median=np.median(dataset_t,axis=1)[i]\n",
        "    std=np.std(dataset_t,axis=1)[i]\n",
        "    max_=np.max(dataset_t, axis=1)[i]\n",
        "    min_=np.min(dataset_t, axis=1)[i]\n",
        "\n",
        "    matrix=np.matrix([[mean],[median],[std],[max_],[min_]])\n",
        "\n",
        "    print(bostons.feature_names[i])\n",
        "    print(matrix)\n",
        "    print('\\n')"
      ],
      "execution_count": 0,
      "outputs": []
    },
    {
      "cell_type": "markdown",
      "metadata": {
        "id": "Pc2m0XS0FQhW",
        "colab_type": "text"
      },
      "source": [
        "CRIM(범죄율)을 예를 들어보면 평균은 62.37687077, 중간값은 4.98로 차이가 매우 크고 표준편차도 123.86865333으로 각 데이터 개체 간 편차가 크다. 또한 mean>med로 좌로 치우친 분포임을 예상할 수 있다. (범죄율이 낮은 곳이 대다수고 범죄율이 극단적으로 높은 몇 개가 있는 듯)\n",
        "이런 경우는 평균보다 중간값을 사용하는 것이 데이터의 경향을 확인하기에 더 적합하다. "
      ]
    },
    {
      "cell_type": "code",
      "metadata": {
        "id": "uS27OCMHDvi8",
        "colab_type": "code",
        "colab": {}
      },
      "source": [
        "representative(bostons.data)"
      ],
      "execution_count": 0,
      "outputs": []
    },
    {
      "cell_type": "code",
      "metadata": {
        "id": "ENrplT154O-C",
        "colab_type": "code",
        "colab": {}
      },
      "source": [
        "#scatter and plot => scatter: CRIM, PTRATIO and grouped by TAX\n",
        "#선정이유:학생/교사 ratio가 높을 수록 열악한 교육환경이라고 보고, 이것이 범죄율과 양의 상관관계를 보이는지 알아보기 위해.\n",
        "#         또한 범죄율과 열악한 교육환경의 관계성 정도가 부의 수준에 따라 달라지는 지 보기 위해 TAX 그룹별로 그림"
      ],
      "execution_count": 0,
      "outputs": []
    },
    {
      "cell_type": "code",
      "metadata": {
        "id": "j6qGGZAV8dZM",
        "colab_type": "code",
        "colab": {}
      },
      "source": [
        "print(bostons.data[:,9])"
      ],
      "execution_count": 0,
      "outputs": []
    },
    {
      "cell_type": "markdown",
      "metadata": {
        "id": "GpO8rhQQ9H6b",
        "colab_type": "text"
      },
      "source": [
        "bostons.data[:,9] 값들의 분포 및 적절한 슬라이싱 지점을 찾기 위한 방법이 있나?\n",
        "\n",
        "200 이하\n",
        "200이상 400이하 \n",
        "400이상 "
      ]
    },
    {
      "cell_type": "code",
      "metadata": {
        "id": "vcwp3yKO9TjU",
        "colab_type": "code",
        "colab": {}
      },
      "source": [
        "tax_mask_0=(bostons.data[:,9]<200)\n",
        "tax_mask_1=(bostons.data[:,9]>=200)&(bostons.data[:,9]<400)\n",
        "tax_mask_2=(bostons.data[:,9]>=400)"
      ],
      "execution_count": 0,
      "outputs": []
    },
    {
      "cell_type": "code",
      "metadata": {
        "id": "1pamwDqX6CKk",
        "colab_type": "code",
        "colab": {}
      },
      "source": [
        "crim=bostons.data[:,0]\n",
        "ptratio=bostons.data[:,10]"
      ],
      "execution_count": 0,
      "outputs": []
    },
    {
      "cell_type": "code",
      "metadata": {
        "id": "yO_xQI4N-MZM",
        "colab_type": "code",
        "colab": {}
      },
      "source": [
        "crim_masked_0=crim[tax_mask_0]\n",
        "crim_masked_1=crim[tax_mask_1]\n",
        "crim_masked_2=crim[tax_mask_2]\n",
        "ptratio_masked_0=ptratio[tax_mask_0]\n",
        "ptratio_masked_1=ptratio[tax_mask_1]\n",
        "ptratio_masked_2=ptratio[tax_mask_2]"
      ],
      "execution_count": 0,
      "outputs": []
    },
    {
      "cell_type": "code",
      "metadata": {
        "id": "i53BhO5a-lAD",
        "colab_type": "code",
        "colab": {
          "base_uri": "https://localhost:8080/",
          "height": 310
        },
        "outputId": "3e4e56d6-aed4-41a3-c3f8-04d3f4c3c1ce"
      },
      "source": [
        "plt.scatter(crim_masked_0, ptratio_masked_0, marker='v', color='r')\n",
        "plt.scatter(crim_masked_1, ptratio_masked_1, marker='o', color='b')\n",
        "plt.scatter(crim_masked_2, ptratio_masked_2, marker='.', color='g')\n",
        "plt.xlabel(\"crime rate\")\n",
        "plt.ylabel(\"students-teacher ratio\")\n",
        "plt.legend(['low level tax','middle level tax','high level tax' ])\n",
        "plt.title(\"Do crime rate and students-teacher ratio correlate? \\n\") \n",
        "plt.show()"
      ],
      "execution_count": 43,
      "outputs": [
        {
          "output_type": "display_data",
          "data": {
            "image/png": "[encoded data removed]",
            "text/plain": [
              "<Figure size 432x288 with 1 Axes>"
            ]
          },
          "metadata": {
            "tags": []
          }
        }
      ]
    },
    {
      "cell_type": "code",
      "metadata": {
        "id": "iSXGJeX6_6FD",
        "colab_type": "code",
        "colab": {}
      },
      "source": [
        "#재산세를 많이 내는 집단(high level tax)은 전반적으로학생/교사 비율이 타 집단에 비해 높은 구간에 많이 분포해있다.\n",
        "#특이한 점은 재산세를 많이 내는 집단(high level tax) 중 1인당 범죄발생율이 높은 개체(town)가 많다는 점이다. \n",
        "#가설을 세울 때 상관관계 또는 인과관계가 있을 것이라 예상했던 범죄율과 학생/교사 비율은 크게 상관이 없는 것으로 나타났다. "
      ],
      "execution_count": 0,
      "outputs": []
    }
  ]
}